{
 "cells": [
  {
   "cell_type": "markdown",
   "id": "e5bb3680",
   "metadata": {},
   "source": [
    "***CUDA (Compute Unified Device Architecture)*** is NVIDIA's parallel computing platform and programming model that lets you harness the power of GPUs for general-purpose computing tasks—not just graphics rendering.\n"
   ]
  },
  {
   "cell_type": "markdown",
   "id": "9164425f",
   "metadata": {},
   "source": [
    "### **🚀 What CUDA Enables**\n",
    "\n",
    "- Massively parallel processing: GPUs have thousands of cores, and CUDA lets you run computations across them simultaneously.\n",
    "- High-performance computing: Ideal for tasks like deep learning, scientific simulations, image processing, and large-scale data analysis.\n",
    "- GPU acceleration: You can offload heavy computations from the CPU to the GPU, often achieving 10x–100x speedups\n"
   ]
  },
  {
   "cell_type": "code",
   "execution_count": 2,
   "id": "151dd372",
   "metadata": {},
   "outputs": [
    {
     "name": "stdout",
     "output_type": "stream",
     "text": [
      "PyTorch version: 2.7.1+cpu\n",
      "CUDA available: False\n"
     ]
    }
   ],
   "source": [
    "import torch\n",
    "print(f\"PyTorch version: {torch.__version__}\")\n",
    "print(f\"CUDA available: {torch.cuda.is_available()}\")"
   ]
  },
  {
   "cell_type": "markdown",
   "id": "77e9bb72",
   "metadata": {},
   "source": [
    "***Tensors are the fundamental building blocks of PyTorch. Think of them as multi-dimensional arrays that can run on GPUs***"
   ]
  },
  {
   "cell_type": "markdown",
   "id": "4d1e4d99",
   "metadata": {},
   "source": [
    "## 🧠 What Is a Tensor?\n",
    "A tensor is a multi-dimensional array:\n",
    "- Scalar → 0D tensor (e.g., 5)\n",
    "- Vector → 1D tensor (e.g., [1, 2, 3])\n",
    "- Matrix → 2D tensor (e.g., [[1, 2], [3, 4]])\n",
    "- Higher-order tensors → 3D and beyond (e.g., images, videos, batches of data)\n",
    "\n",
    "\n",
    "### 📐 Shape: The Layout of the Tensor\n",
    "\n",
    "The shape tells you how many elements exist along each dimension of a tensor. It’s expressed as a tuple.\n",
    "- Example: A tensor with shape (2, 3) means:\n",
    "- 2 rows\n",
    "- 3 columns\n",
    "- Total of 6 elements\n",
    "\n",
    "\n",
    "### 🧭 Rank: Number of Dimension\n",
    "\n",
    "The rank is the number of dimensions (or axes) the tensor has.\n",
    "- Scalar → Rank 0\n",
    "- Vector → Rank 1\n",
    "- Matrix → Rank 2\n",
    "- 3D tensor → Rank 3 (e.g., batch of images)\n",
    "\n",
    "### 🔢 Size: Total Number of Elements\n",
    "The size is the total count of elements in the tensor. It’s the product of all dimensions in the shape.\n",
    "- For shape (2, 3), size = 2 × 3 = 6\n",
    "\n",
    "\n",
    "\n"
   ]
  },
  {
   "cell_type": "code",
   "execution_count": 10,
   "id": "49560bd7",
   "metadata": {},
   "outputs": [
    {
     "name": "stdout",
     "output_type": "stream",
     "text": [
      "Scalar: 5\n",
      "Shape: torch.Size([])\n",
      "rank :  0\n"
     ]
    }
   ],
   "source": [
    "import torch\n",
    "\n",
    "# Scalar (0D tensor) - just a single number\n",
    "\n",
    "scalar = torch.tensor(5)\n",
    "print(f\"Scalar: {scalar}\")\n",
    "print(f\"Shape: {scalar.shape}\")\n",
    "print (\"rank : \", scalar.ndim)\n"
   ]
  },
  {
   "cell_type": "code",
   "execution_count": 11,
   "id": "59d790f4",
   "metadata": {},
   "outputs": [
    {
     "name": "stdout",
     "output_type": "stream",
     "text": [
      "Vector: tensor([1, 2, 3, 4])\n",
      "Shape: torch.Size([4])\n",
      "rank: 1\n"
     ]
    }
   ],
   "source": [
    "# Vector (1D tensor) - like a list of numbers\n",
    "\n",
    "vector = torch.tensor([1, 2, 3, 4])\n",
    "print(f\"Vector: {vector}\")\n",
    "print(f\"Shape: {vector.shape}\")\n",
    "print(f\"rank: {vector.ndim}\")"
   ]
  },
  {
   "cell_type": "code",
   "execution_count": 12,
   "id": "5d725f14",
   "metadata": {},
   "outputs": [
    {
     "name": "stdout",
     "output_type": "stream",
     "text": [
      "tensor([[1, 2],\n",
      "        [3, 4],\n",
      "        [5, 5]])\n",
      "torch.Size([3, 2])\n",
      "rank: 2\n"
     ]
    }
   ],
   "source": [
    "# Matrix (2D tensor) - like a spreadsheet\n",
    "\n",
    "matrix = torch.tensor([[1,2],[3,4],[5,5]])\n",
    "print (matrix)\n",
    "print (matrix.shape)\n",
    "print(f\"rank: {matrix.ndim}\")\n"
   ]
  },
  {
   "cell_type": "code",
   "execution_count": 14,
   "id": "09f76a76",
   "metadata": {},
   "outputs": [
    {
     "name": "stdout",
     "output_type": "stream",
     "text": [
      "tensor([[ 1,  2,  1, 13],\n",
      "        [ 3,  4,  1, 11],\n",
      "        [ 5,  6,  1, 19]])\n",
      "torch.Size([3, 4])\n",
      "rank 2\n"
     ]
    }
   ],
   "source": [
    "# Matrix (2D tensor) - like a spreadsheet\n",
    "\n",
    "matrix1 = torch.tensor([[1,2,1,13],[3,4,1,11],[5,6,1,19]])\n",
    "print (matrix)\n",
    "print (matrix.shape)\n",
    "print (\"rank\",matrix.ndim)\n"
   ]
  },
  {
   "cell_type": "code",
   "execution_count": 16,
   "id": "f4829911",
   "metadata": {},
   "outputs": [
    {
     "name": "stdout",
     "output_type": "stream",
     "text": [
      "tensor([[[1, 2, 3],\n",
      "         [3, 4, 4],\n",
      "         [4, 5, 1]]])\n",
      "torch.Size([1, 3, 3])\n",
      "3\n"
     ]
    }
   ],
   "source": [
    " # 3D tensor - like a stack of matrices\n",
    "\n",
    "tensor_3d = torch.tensor([[[1,2,3], [3,4,4], [4,5,1]]])\n",
    "print (tensor_3d)\n",
    "print (tensor_3d.shape)\n",
    "print (tensor_3d.ndim)"
   ]
  },
  {
   "cell_type": "markdown",
   "id": "0ef53a25",
   "metadata": {},
   "source": [
    "### Creating Tensors"
   ]
  },
  {
   "cell_type": "code",
   "execution_count": 9,
   "id": "17e1a94d",
   "metadata": {},
   "outputs": [
    {
     "name": "stdout",
     "output_type": "stream",
     "text": [
      "tensor([[[0.],\n",
      "         [0.],\n",
      "         [0.],\n",
      "         [0.]],\n",
      "\n",
      "        [[0.],\n",
      "         [0.],\n",
      "         [0.],\n",
      "         [0.]],\n",
      "\n",
      "        [[0.],\n",
      "         [0.],\n",
      "         [0.],\n",
      "         [0.]]])\n",
      "3\n",
      "torch.Size([3, 4, 1])\n",
      "12\n"
     ]
    }
   ],
   "source": [
    "# Create tensors with specific values\n",
    "import torch\n",
    "zeros = torch.zeros([3, 4,1])\n",
    "print (zeros)\n",
    "print (zeros.ndim)\n",
    "print (zeros.size())\n",
    "print (zeros.numel())"
   ]
  },
  {
   "cell_type": "code",
   "execution_count": 11,
   "id": "3235aacf",
   "metadata": {},
   "outputs": [
    {
     "name": "stdout",
     "output_type": "stream",
     "text": [
      "tensor([[[[1., 1.]],\n",
      "\n",
      "         [[1., 1.]],\n",
      "\n",
      "         [[1., 1.]]],\n",
      "\n",
      "\n",
      "        [[[1., 1.]],\n",
      "\n",
      "         [[1., 1.]],\n",
      "\n",
      "         [[1., 1.]]]])\n",
      "torch.Size([2, 3, 1, 2])\n",
      "4\n"
     ]
    }
   ],
   "source": [
    "ones = torch.ones(2, 3,1,2)\n",
    "print (ones)\n",
    "print (ones.shape)\n",
    "print (ones.ndim)\n"
   ]
  },
  {
   "cell_type": "markdown",
   "id": "abaeba5c",
   "metadata": {},
   "source": [
    "- Create tensor with specific data typ"
   ]
  },
  {
   "cell_type": "code",
   "execution_count": 14,
   "id": "a24a0a9b",
   "metadata": {},
   "outputs": [
    {
     "name": "stdout",
     "output_type": "stream",
     "text": [
      "tensor([1.0000, 1.0000, 2.2000])\n"
     ]
    }
   ],
   "source": [
    "float_tensor = torch.tensor([1,1,2.2], dtype= torch.float32)\n",
    "print (float_tensor)"
   ]
  },
  {
   "cell_type": "code",
   "execution_count": 19,
   "id": "088e433e",
   "metadata": {},
   "outputs": [
    {
     "name": "stdout",
     "output_type": "stream",
     "text": [
      "tensor([[1, 1, 1],\n",
      "        [1, 1, 1]], dtype=torch.int8)\n"
     ]
    }
   ],
   "source": [
    "ones = torch.ones(2, 3, dtype= torch.int8) \n",
    "print (ones)"
   ]
  },
  {
   "cell_type": "code",
   "execution_count": 25,
   "id": "5527fb67",
   "metadata": {},
   "outputs": [
    {
     "name": "stdout",
     "output_type": "stream",
     "text": [
      "torch.Size([5, 5])\n",
      "2\n",
      "25\n",
      "torch.Size([5, 5])\n"
     ]
    }
   ],
   "source": [
    "## 5x5 matrix of zeros\n",
    "zeros_5 = torch.zeros(5,5)\n",
    "print(zeros_5.shape)\n",
    "print(zeros_5.ndim)\n",
    "print(zeros_5.numel())\n",
    "print(zeros_5.size())"
   ]
  },
  {
   "cell_type": "code",
   "execution_count": 26,
   "id": "cf3463b9",
   "metadata": {},
   "outputs": [
    {
     "name": "stdout",
     "output_type": "stream",
     "text": [
      "torch.Size([5])\n",
      "1\n"
     ]
    }
   ],
   "source": [
    "array_1d = torch.tensor([10, 20, 30, 40, 50])\n",
    "print(array_1d.shape)\n",
    "print(array_1d.ndim)\n"
   ]
  },
  {
   "cell_type": "code",
   "execution_count": 27,
   "id": "77a73279",
   "metadata": {},
   "outputs": [
    {
     "name": "stdout",
     "output_type": "stream",
     "text": [
      "torch.Size([2, 3])\n",
      "2\n"
     ]
    }
   ],
   "source": [
    "## A 2x3 matrix of random numbers\n",
    "\n",
    "random_1 = torch.randn(2, 3)\n",
    "print (random_1.shape)\n",
    "print (random_1.ndim)\n"
   ]
  },
  {
   "cell_type": "code",
   "execution_count": 41,
   "id": "23c3bb2a",
   "metadata": {},
   "outputs": [
    {
     "name": "stdout",
     "output_type": "stream",
     "text": [
      "tensor([[1., 0., 0.],\n",
      "        [0., 1., 0.],\n",
      "        [0., 0., 1.]], dtype=torch.float16)\n",
      "torch.Size([3, 3])\n",
      "2\n"
     ]
    }
   ],
   "source": [
    "# A 3x3 identity matrix (hint: use torch.eye())\n",
    "\n",
    "torch_eye = torch.eye(3, dtype=torch.float16)\n",
    "print (torch_eye)\n",
    "print (torch_eye.shape)\n",
    "print (torch_eye.ndim)\n"
   ]
  },
  {
   "cell_type": "markdown",
   "id": "c538f3ad",
   "metadata": {},
   "source": [
    "## 4. Basic Tensor Operations\n",
    "- Mathematical Operations"
   ]
  },
  {
   "cell_type": "code",
   "execution_count": 46,
   "id": "db9f5bd0",
   "metadata": {},
   "outputs": [
    {
     "name": "stdout",
     "output_type": "stream",
     "text": [
      "Addition: tensor([5, 7, 9])\n",
      "Subtraction: tensor([-3, -3, -3])\n",
      "Multiplication: tensor([ 4, 10, 18])\n",
      "Division: tensor([0.2500, 0.4000, 0.5000])\n"
     ]
    }
   ],
   "source": [
    " # Create sample tensors\n",
    " a = torch.tensor([1, 2, 3])\n",
    " b = torch.tensor([4, 5, 6])\n",
    "\n",
    " # Basic arithmetic\n",
    " print(\"Addition:\", a + b)\n",
    " print(\"Subtraction:\", a - b)\n",
    " print(\"Multiplication:\", a * b)\n",
    " print(\"Division:\",(a / b))"
   ]
  },
  {
   "cell_type": "code",
   "execution_count": 54,
   "id": "555b6bff",
   "metadata": {},
   "outputs": [
    {
     "name": "stdout",
     "output_type": "stream",
     "text": [
      "Matrix addition:\n",
      " tensor([[ 6,  8],\n",
      "        [10, 12]])\n",
      "============================================================================================\n",
      "Matrix multiplication:\n",
      " tensor([[19, 22],\n",
      "        [43, 50]])\n",
      "============================================================================================\n",
      "Matrix multiplication (@ operator):\n",
      " tensor([[19, 22],\n",
      "        [43, 50]])\n",
      "============================================================================================\n"
     ]
    }
   ],
   "source": [
    "# Matrix operations\n",
    "matrix_a = torch.tensor([[1, 2], [3, 4]])\n",
    "matrix_b = torch.tensor([[5, 6], [7, 8]])\n",
    "\n",
    "print(\"Matrix addition:\\n\", matrix_a + matrix_b)\n",
    "print (\"==============================================\"*2)\n",
    "\n",
    "print(\"Matrix multiplication:\\n\", torch.matmul(matrix_a, matrix_b))\n",
    "\n",
    "print (\"==============================================\"*2)\n",
    "\n",
    "# or use @ operator\n",
    "print(\"Matrix multiplication (@ operator):\\n\", matrix_a @ matrix_b)\n",
    "\n",
    "print (\"==============================================\"*2)"
   ]
  },
  {
   "cell_type": "markdown",
   "id": "aecfb203",
   "metadata": {},
   "source": [
    "### Reshaping a tensor"
   ]
  },
  {
   "cell_type": "code",
   "execution_count": 55,
   "id": "6d0db8bc",
   "metadata": {},
   "outputs": [
    {
     "name": "stdout",
     "output_type": "stream",
     "text": [
      "Original shape: torch.Size([2, 4])\n",
      "Original tensor:\n",
      " tensor([[1, 2, 3, 4],\n",
      "        [5, 6, 7, 8]])\n"
     ]
    }
   ],
   "source": [
    "x = torch.tensor([[1, 2, 3, 4], [5, 6, 7, 8]])\n",
    "print(\"Original shape:\", x.shape)\n",
    "print(\"Original tensor:\\n\", x)"
   ]
  },
  {
   "cell_type": "code",
   "execution_count": 56,
   "id": "7f625964",
   "metadata": {},
   "outputs": [
    {
     "name": "stdout",
     "output_type": "stream",
     "text": [
      "Reshaped (4, 2):\n",
      " tensor([[1, 2],\n",
      "        [3, 4],\n",
      "        [5, 6],\n",
      "        [7, 8]])\n"
     ]
    }
   ],
   "source": [
    "reshaped = x.view(4, 2)  # 4 rows, 2 columns\n",
    "print(\"Reshaped (4, 2):\\n\", reshaped)"
   ]
  },
  {
   "cell_type": "code",
   "execution_count": 67,
   "id": "642aacd5",
   "metadata": {},
   "outputs": [
    {
     "name": "stdout",
     "output_type": "stream",
     "text": [
      "torch.Size([2, 3])\n",
      "2\n",
      "tensor([[1, 2, 3],\n",
      "        [2, 2, 2]])\n"
     ]
    }
   ],
   "source": [
    "y = torch.tensor([[1,2,3],[2,2,2]])\n",
    "print (y.shape)\n",
    "print (y.ndim)\n",
    "print (y)"
   ]
  },
  {
   "cell_type": "code",
   "execution_count": 66,
   "id": "25e0ac25",
   "metadata": {},
   "outputs": [
    {
     "name": "stdout",
     "output_type": "stream",
     "text": [
      "tensor([[1, 2],\n",
      "        [3, 2],\n",
      "        [2, 2]])\n"
     ]
    }
   ],
   "source": [
    "new_y = y.view([3,2])\n",
    "print(new_y)"
   ]
  },
  {
   "cell_type": "code",
   "execution_count": null,
   "id": "4d450ba7",
   "metadata": {},
   "outputs": [],
   "source": []
  }
 ],
 "metadata": {
  "kernelspec": {
   "display_name": "venv",
   "language": "python",
   "name": "python3"
  },
  "language_info": {
   "codemirror_mode": {
    "name": "ipython",
    "version": 3
   },
   "file_extension": ".py",
   "mimetype": "text/x-python",
   "name": "python",
   "nbconvert_exporter": "python",
   "pygments_lexer": "ipython3",
   "version": "3.12.6"
  }
 },
 "nbformat": 4,
 "nbformat_minor": 5
}
